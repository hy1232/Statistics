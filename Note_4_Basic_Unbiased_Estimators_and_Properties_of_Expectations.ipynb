{
 "cells": [
  {
   "cell_type": "code",
   "execution_count": 2,
   "metadata": {},
   "outputs": [],
   "source": [
    "import numpy as np\n",
    "import matplotlib.pyplot as plt\n",
    "from scipy.stats import multivariate_normal\n",
    "from mpl_toolkits.mplot3d import Axes3D\n",
    "import pandas as pd \n",
    "import random\n",
    "import statistics\n",
    "import seaborn as sns \n",
    "import collections\n",
    "import statsmodels.api as sm\n",
    "import statsmodels.formula.api as smf\n",
    "import scipy.stats as stats\n",
    "from matplotlib.ticker import (MultipleLocator, FormatStrFormatter, AutoMinorLocator)"
   ]
  },
  {
   "cell_type": "markdown",
   "metadata": {},
   "source": [
    "## Basic Unbiased Estimators"
   ]
  },
  {
   "cell_type": "markdown",
   "metadata": {},
   "source": [
    "### Sample Mean\n",
    "\n",
    "$\\bar{X_i} = \\frac{1}{n}\\sum_j^nX_{i,j}$\n",
    "\n",
    "\n",
    "### Expectation of Sample Mean \n",
    "\n",
    "$E[\\bar{X_i}] = \\frac{1}{n}E[\\sum_j^nX_{i,j}] = E[X_i]$\n",
    "\n"
   ]
  },
  {
   "cell_type": "code",
   "execution_count": 16,
   "metadata": {},
   "outputs": [],
   "source": [
    "X = np.random.normal(0,1,10000)\n",
    "X_bar = []\n",
    "sample_var = []\n",
    "\n",
    "for i in range(10000):\n",
    "    inx = np.random.randint(10000, size=100)\n",
    "    X_bar.append(np.mean(X[inx]))\n",
    "    sample_var.append(statistics.variance(X[inx]))"
   ]
  },
  {
   "cell_type": "code",
   "execution_count": 17,
   "metadata": {},
   "outputs": [
    {
     "data": {
      "image/png": "[encoded data removed]",
      "text/plain": [
       "<Figure size 864x432 with 2 Axes>"
      ]
     },
     "metadata": {
      "needs_background": "light"
     },
     "output_type": "display_data"
    }
   ],
   "source": [
    "fig = plt.figure(figsize=(12,6))\n",
    "\n",
    "ax_0 = fig.add_axes([0,0,1,1])\n",
    "ax_1 = fig.add_axes([1.1,0,1,1])\n",
    "\n",
    "ax_0.hist(X, bins=100, ec=\"black\", density=True)\n",
    "ax_0.set_title(\"Distirbution of X\", fontsize=30)\n",
    "ax_1.hist(X_bar, bins=100, ec=\"black\", density=True)\n",
    "ax_1.set_title(r\"Distribution of $\\bar{X}$\", fontsize=30)\n",
    "\n",
    "ax_0.axvline(np.mean(X), color='red', linestyle=\"--\",linewidth=4)\n",
    "ax_1.axvline(np.mean(X_bar), color='red', linestyle=\"--\",linewidth=4)\n",
    "\n",
    "\n",
    "plt.show()"
   ]
  },
  {
   "cell_type": "markdown",
   "metadata": {},
   "source": [
    "### Sample Variance\n",
    "\n",
    "$S_{x,i}^2 = \\frac{1}{n-1}\\sum_j^n(X_{i,j}-\\bar{X_i})^2$\n",
    "\n",
    "\n",
    "### Expectation of Sample Variance\n",
    "\n",
    "$E[S_{x,i}^2] = \\frac{1}{n-1}E[\\sum_j^n(X_{i,j}-\\bar{X_i})^2]$\n",
    "\n",
    "$= \\frac{1}{n-1}E[\\sum_j^n(X_{i,j}^2-2\\bar{X_{i}}X_{i,j}+\\bar{X_i}^2)]$\n",
    "\n",
    "$= \\frac{1}{n-1}E[\\sum_j^nX_{i,j}^2-2\\bar{X_{i}}\\sum_j^nX_{i,j}+\\sum_j^n\\bar{X_i}^2]$\n",
    "\n",
    "$= \\frac{1}{n-1}E[\\sum_j^nX_{i,j}^2-2n\\bar{X_{i}}^2+n\\bar{X_i}^2]$\n",
    "\n",
    "$= \\frac{1}{n-1}E[\\sum_j^nX_{i,j}^2-n\\bar{X_i}^2]$\n",
    "\n",
    "$= \\frac{1}{n-1}(E[\\sum_j^nX_{i,j}^2]-nE[\\bar{X_i}^2])$\n",
    "\n",
    "$= \\frac{1}{n-1}(nE[X_{i,j}^2]-nE[\\bar{X_i}^2])$\n",
    "\n",
    "\n",
    "$E[X_{i,j}^2] = Var(X_i) + E[X_i]^2$\n",
    "\n",
    "$E[\\bar{X_i}^2] = Var(\\bar{X_i}) + E[\\bar{X_i}]^2$\n",
    "\n",
    "$E[\\bar{X_i}^2] = \\frac{Var(X_i)}{n}+E[\\bar{X_i}]^2$\n",
    "\n",
    "$= \\frac{n}{n-1}(E[X_{i,j}^2]-E[\\bar{X_i}^2])$\n",
    "\n",
    "$= \\frac{n}{n-1}(Var(X_i) + E[X_i]^2 - \\frac{Var(X_i)}{n}-E[\\bar{X_i}]^2)$\n",
    "\n",
    "$= \\frac{n}{n-1}(Var(X_i) + \\mu_x^2 - \\frac{Var(X_i)}{n}-\\mu_x^2)$\n",
    "\n",
    "$= \\frac{n}{n-1}(Var(X_i) - \\frac{Var(X_i)}{n})$\n",
    "\n",
    "$= \\frac{1}{n-1}(n \\cdot Var(X_i) - Var(X_i))$\n",
    "\n",
    "$= \\frac{1}{n-1} \\cdot Var(X_i) \\cdot (n-1)$\n",
    "\n",
    "$= Var(X_i)$"
   ]
  },
  {
   "cell_type": "markdown",
   "metadata": {},
   "source": [
    "#### This is the variance of X."
   ]
  },
  {
   "cell_type": "code",
   "execution_count": 20,
   "metadata": {},
   "outputs": [
    {
     "data": {
      "text/plain": [
       "1.003197164386889"
      ]
     },
     "execution_count": 20,
     "metadata": {},
     "output_type": "execute_result"
    }
   ],
   "source": [
    "statistics.pvariance(X)"
   ]
  },
  {
   "cell_type": "markdown",
   "metadata": {},
   "source": [
    "#### This is the expectation of sample variances."
   ]
  },
  {
   "cell_type": "code",
   "execution_count": 18,
   "metadata": {},
   "outputs": [
    {
     "data": {
      "text/plain": [
       "1.0044046446869135"
      ]
     },
     "execution_count": 18,
     "metadata": {},
     "output_type": "execute_result"
    }
   ],
   "source": [
    "np.mean(sample_var)"
   ]
  },
  {
   "cell_type": "markdown",
   "metadata": {},
   "source": [
    "## Properties of Expectation\n",
    "\n",
    "$E[a+b] = E[a] + E[b]$\n",
    "\n",
    "If and only if a and b are independent.\n",
    "\n",
    "In other words, \n",
    "\n",
    "$E[\\sum_i^nX_{i,j}]=E[X_{1,j}+X_{2,j}+...+X_{n,j}]$\n",
    "\n",
    "$E[X_{1,j}]+E[X_{2,j}]+...+E[X_{n,j}]=n \\cdot E[X_j]$\n",
    "\n",
    "Let's try this example: \n",
    "\n",
    "$E[\\sum_{i}^3X_{i,j}] = E[X_{1,j} + X_{2,j} + X_{3,j}]$\n",
    "\n",
    "$= 3 \\cdot E[X_j]$"
   ]
  },
  {
   "cell_type": "code",
   "execution_count": 23,
   "metadata": {},
   "outputs": [
    {
     "data": {
      "text/plain": [
       "-0.010281481998706762"
      ]
     },
     "execution_count": 23,
     "metadata": {},
     "output_type": "execute_result"
    }
   ],
   "source": [
    "# First example where X_j takes mean zero. \n",
    "\n",
    "X_1 = np.random.normal(0,1,10000)\n",
    "X_2 = np.random.normal(0,1,10000)\n",
    "X_3 = np.random.normal(0,1,10000)\n",
    "\n",
    "sigma_X = X_1 + X_2 + X_3\n",
    "\n",
    "np.mean(sigma_X)"
   ]
  },
  {
   "cell_type": "code",
   "execution_count": 26,
   "metadata": {},
   "outputs": [
    {
     "data": {
      "text/plain": [
       "8.987106521630093"
      ]
     },
     "execution_count": 26,
     "metadata": {},
     "output_type": "execute_result"
    }
   ],
   "source": [
    "# Second example where X_j takes mean 3. \n",
    "\n",
    "X_1 = np.random.normal(3,1,10000)\n",
    "X_2 = np.random.normal(3,1,10000)\n",
    "X_3 = np.random.normal(3,1,10000)\n",
    "\n",
    "sigma_X = X_1 + X_2 + X_3\n",
    "\n",
    "np.mean(sigma_X)"
   ]
  },
  {
   "cell_type": "markdown",
   "metadata": {},
   "source": [
    "## Properties of Varaince (variance is also an expectation)\n",
    "\n",
    "$Var[a+b] = Var[a] + Var[b] + 2 \\cdot Cov(a,b)$\n",
    "\n",
    "But if a and b are independent, then the $Cov(a,b)=0$\n",
    "\n",
    "But $Cov(a,b) = 0$ doesn't mean that a and b are independent.\n",
    "\n",
    "**Therefore,**\n",
    "\n",
    "$Var[a+b] = Var[a] + Var[b]$\n",
    "\n",
    "if and only if a and b are independent.\n",
    "\n",
    "**Mathematical proof:** \n",
    "\n",
    "$Var(a + b) = E[(a+b)^2] - E[a+b]^2$\n",
    "\n",
    "$= E[a^2 + 2ab + b^2] - E[a+b]^2$\n",
    "\n",
    "$= E[a^2] + 2E[ab] + E[b^2] - (E[a]+E[b])^2$\n",
    "\n",
    "$= E[a^2] + 2E[ab] + E[b^2] - (E[a]^2 + 2E[a]E[b] + E[b]^2)$\n",
    "\n",
    "$= E[a^2] - E[a]^2 + E[b^2] - E[b]^2 + 2E[ab] - 2E[a]E[b]$\n",
    "\n",
    "$= Var(a) + Var(b) + 2Cov(a,b)$\n",
    "\n",
    "**Conversely**\n",
    "\n",
    "$Var(a-b) = Var(a) + Var(b) - 2Cov(a,b)$"
   ]
  },
  {
   "cell_type": "code",
   "execution_count": 30,
   "metadata": {},
   "outputs": [
    {
     "name": "stdout",
     "output_type": "stream",
     "text": [
      "Variance of X_1 is 0.9695551115718865\n",
      "Variance of X_2 is 0.9976613701938325\n"
     ]
    }
   ],
   "source": [
    "print(\"Variance of X_1 is\", statistics.pvariance(X_1))\n",
    "print(\"Variance of X_2 is\", statistics.pvariance(X_2))"
   ]
  },
  {
   "cell_type": "code",
   "execution_count": 33,
   "metadata": {},
   "outputs": [
    {
     "name": "stdout",
     "output_type": "stream",
     "text": [
      "Variance of X_1 + Variance of X_2 is 1.967216481765719\n"
     ]
    }
   ],
   "source": [
    "print(\"Variance of X_1 + Variance of X_2 is\", statistics.pvariance(X_1) + statistics.pvariance(X_2))"
   ]
  },
  {
   "cell_type": "code",
   "execution_count": 34,
   "metadata": {},
   "outputs": [
    {
     "name": "stdout",
     "output_type": "stream",
     "text": [
      "Variance of (X_1 + X_2) is  1.9848871633317517\n"
     ]
    }
   ],
   "source": [
    "print(\"Variance of (X_1 + X_2) is \",statistics.pvariance(X_1+X_2))"
   ]
  },
  {
   "cell_type": "markdown",
   "metadata": {},
   "source": [
    "## Additional Stuff \n",
    "\n",
    "### Number 1\n",
    "\n",
    "$COV(X_i,Y_i) = E[(X_i - E[X_i])(Y_i - E[Y_i])]$\n",
    "\n",
    "$ = E[X_iY_i - X_i\\mu_y - \\mu_xY_i + \\mu_x\\mu_y]$\n",
    "\n",
    "$ = E[X_iY_i] - \\mu_x\\mu_y - \\mu_x\\mu_y + \\mu_x\\mu_y$\n",
    "\n",
    "$ = E[X_iY_i] - \\mu_x\\mu_y$\n",
    "\n",
    "**Therefore** \n",
    "\n",
    "$E[X_iY_i] = COV(X,Y) + \\mu_x\\mu_y$\n",
    "\n",
    "**But if X and Y are independent, then $Cov(X,Y) = 0$. Therefore, $E[X_iY_i] = E[X_i]E[Y_i] = \\mu_x\\mu_y$**\n",
    "\n",
    "\n",
    "### Number 2\n",
    "\n",
    "\n",
    "$COV(\\bar{X},\\bar{Y}) = E[(\\bar{X_i} - E[\\bar{X_i}])(\\bar{Y_i} - E[\\bar{Y_i}])]$\n",
    "\n",
    "$ = E[\\bar{X_i}\\bar{Y_i}] - \\mu_x\\mu_y$ \n",
    "\n",
    "**Therefore** \n",
    "\n",
    "$E[\\bar{X_i}\\bar{Y_i}] = COV(\\bar{X},\\bar{Y}) + \\mu_x\\mu_y$\n",
    "\n",
    "\n",
    "### Number 3 \n",
    "\n",
    "\n",
    "$VAR(\\bar{X_i}) = \\frac{Var(X_i)}{N}$\n",
    "\n",
    "**Proof:**\n",
    "\n",
    "$VAR(\\bar{X_i}) = E[(\\bar{X_i}-E[\\bar{X_i}])^2]$\n",
    "\n",
    "$= E[(\\frac{1}{N}\\sum_j^nX_{i,j}-\\frac{1}{N}E[\\sum_j^nX_{i,j}])^2]$\n",
    "\n",
    "$= \\frac{1}{N^2} \\cdot E[(\\sum_j^nX_{i,j}-E[\\sum_j^nX_{i,j}])^2]$\n",
    "\n",
    "$= \\frac{1}{N^2} \\cdot Var(\\sum_j^nX_{i,j})$\n",
    "\n",
    "**Because $X_j$ are independent from each other, the covariance terms goes to zero.**\n",
    "\n",
    "$= \\frac{1}{N^2} \\cdot N \\cdot Var(X_i)$\n",
    "\n",
    "**Therefore** \n",
    "\n",
    "$= \\frac{1}{N} \\cdot Var(X_i)$\n",
    "\n",
    "**But more simply, we can do something like this.** \n",
    "\n",
    "$VAR(\\bar{X_i}) = Var(\\frac{1}{N}\\sum_j^nX_{i,j})$\n",
    "\n",
    "$= \\frac{1}{N^2} \\cdot Var(\\sum_j^nX_{i,j})$\n",
    "\n",
    "$= \\frac{1}{N^2} \\cdot N \\cdot Var(X_i)$\n",
    "\n",
    "$= \\frac{1}{N} \\cdot Var(X_i)$\n",
    "\n",
    "\n",
    "### Number 4\n",
    "\n",
    "When X and Y are independent,\n",
    "\n",
    "$Var(X \\cdot Y) = \\sigma_x^2\\sigma_y^2 + \\mu_y^2\\sigma_x^2 + \\mu_x^2\\sigma_y^2$\n",
    "\n",
    "**Proof**\n",
    "\n",
    "$Var(XY) = E[(XY)^2]-E[XY]^2$\n",
    "\n",
    "$= E[X^2Y^2] - E[X]^2E[Y]^2$\n",
    "\n",
    "If X and Y are independent, then $E[X^2Y^2] = E[X^2]E[Y^2]$\n",
    "\n",
    "$= E[X^2]E[Y^2] - E[X]^2E[Y]^2$\n",
    "\n",
    "$= (Var(X)+\\mu_x^2)(Var(Y)+\\mu_y^2) - \\mu_x^2\\mu_y^2$\n",
    "\n",
    "$= (\\sigma_x^2\\sigma_y^2 +\\sigma_x^2\\mu_y^2 + \\mu_x^2\\sigma_y^2 + \\mu_x^2\\mu_y^2) - \\mu_x^2\\mu_y^2$\n",
    "\n",
    "$= \\sigma_x^2\\sigma_y^2 +\\sigma_x^2\\mu_y^2 + \\mu_x^2\\sigma_y^2$\n",
    "\n",
    "If X and Y are dependent, then $E[X^2Y^2] = Cov(X^2,Y^2) + E[X^2]E[Y^2]$\n",
    "\n",
    "Usually, we used the formula $E[XY] = Cov(X,Y) + E[X]E[Y]$ When X and Y are dependent.\n",
    "\n",
    "**Therefore** \n",
    "\n",
    "\n",
    "When X and Y are dependent, then \n",
    "\n",
    "$Var(X \\cdot Y) = Cov(X^2,Y^2) + \\sigma_x^2\\sigma_y^2 + \\mu_y^2\\sigma_x^2 + \\mu_x^2\\sigma_y^2$\n"
   ]
  }
 ],
 "metadata": {
  "hide_input": false,
  "kernelspec": {
   "display_name": "Python 3",
   "language": "python",
   "name": "python3"
  },
  "language_info": {
   "codemirror_mode": {
    "name": "ipython",
    "version": 3
   },
   "file_extension": ".py",
   "mimetype": "text/x-python",
   "name": "python",
   "nbconvert_exporter": "python",
   "pygments_lexer": "ipython3",
   "version": "3.8.5"
  }
 },
 "nbformat": 4,
 "nbformat_minor": 4
}
