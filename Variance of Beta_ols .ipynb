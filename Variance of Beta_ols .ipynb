{
 "cells": [
  {
   "cell_type": "markdown",
   "metadata": {},
   "source": [
    "$Var(\\widehat{\\beta_{1,i}}) = Var(\\frac{\\sum_j^n(X_{i,j}-\\bar{X_i})\\epsilon_{i,j}}{\\sum_j^n(X_{i,j}-\\bar{X_i})^2})$\n",
    "\n",
    "$= E[(\\frac{\\sum_j^n(X_{i,j}-\\bar{X_i})\\epsilon_{i,j}}{\\sum_j^n(X_{i,j}-\\bar{X_i})^2})^2] - E[\\frac{\\sum_j^n(X_{i,j}-\\bar{X_i})\\epsilon_{i,j}}{\\sum_j^n(X_{i,j}-\\bar{X_i})^2}]^2$\n",
    "\n",
    "$= E[E[(\\frac{\\sum_j^n(X_{i,j}-\\bar{X_i})\\epsilon_{i,j}}{\\sum_j^n(X_{i,j}-\\bar{X_i})^2})^2|\\{X\\}_i]] - E[E[\\frac{\\sum_j^n(X_{i,j}-\\bar{X_i})\\epsilon_{i,j}}{\\sum_j^n(X_{i,j}-\\bar{X_i})^2}|\\{X\\}_i]]^2$\n",
    "\n",
    "$= E[\\frac{1}{(\\sum_j^n(X_{i,j}-\\bar{X_i})^2)^2} \\cdot E[(\\sum_j^n(X_{i,j}-\\bar{X_i})\\epsilon_{i,j})^2|\\{X\\}_i]] - E[\\frac{1}{\\sum_j^n(X_{i,j}-\\bar{X_i})^2} \\cdot E[\\sum_j^n(X_{i,j}-\\bar{X_i})\\epsilon_{i,j}|\\{X\\}_i]]^2$\n",
    "\n",
    "$= E[\\frac{1}{(\\sum_j^n(X_{i,j}-\\bar{X_i})^2)^2}] \\cdot E[(\\sum_j^n(X_{i,j}-\\bar{X_i})\\epsilon_{i,j})^2] - E[\\frac{1}{\\sum_j^n(X_{i,j}-\\bar{X_i})^2}]^2 \\cdot E[\\sum_j^n(X_{i,j}-\\bar{X_i})\\epsilon_{i,j}]^2$\n",
    "\n",
    "As $N -> \\infty$\n",
    "\n",
    "$E[\\frac{1}{(\\sum_j^n(X_{i,j}-\\bar{X_i})^2)^2}] = E[\\frac{1}{\\sum_j^n(X_{i,j}-\\bar{X_i})^2}]^2$\n",
    "\n",
    "Because $E[(S_{x,i}^2)^2] = E[S_{x,i}^2]^2$\n",
    "\n",
    "$E[(S_{x,i}^2)^2] = Var(S_{x,i}^2) + E[S_{x,i}^2]^2$\n",
    "\n",
    "And $Var(S_{x,i}^2) -> 0$ because $S_{x,i}^2 -> \\sigma_x^2$ when n goes to infinity.  \n",
    "\n",
    "Varince of a constant is just zero. \n",
    "\n",
    "$= E[\\frac{1}{\\sum_j^n(X_{i,j}-\\bar{X_i})^2}]^2 \\cdot \\{E[(\\sum_j^n(X_{i,j}-\\bar{X_i})\\epsilon_{i,j})^2] - E[\\sum_j^n(X_{i,j}-\\bar{X_i})\\epsilon_{i,j}]^2\\}$\n",
    "\n",
    "$= \\frac{1}{E[\\sum_j^n(X_{i,j}-\\bar{X_i})^2]^2} \\cdot Var(\\sum_j^n(X_{i,j}-\\bar{X_i})\\epsilon_{i,j})$\n",
    "\n",
    "$= \\frac{1}{\\{(n-1)\\sigma_x^2\\}^2} \\cdot Var(\\sum_j^n(X_{i,j}-\\bar{X_i})\\epsilon_{i,j})$\n",
    "\n",
    "Here, I shouldn't distribute $\\sum_j^n(X_{i,j}-\\bar{X_i})\\epsilon_{i,j}$\n",
    "\n",
    "Because $\\sum_j^nX_{i,j}\\epsilon_{i,j}$ and $\\bar{X_i}\\sum_j^n\\epsilon_{i,j}$ will have a correlation. That means it will create a covaraince term. So we can't solve it by hand. \n",
    "\n",
    "$= \\frac{1}{\\{(n-1)\\sigma_x^2\\}^2} \\cdot \\sum_j^nVar((X-\\bar{X})_i \\cdot \\epsilon_i)$\n",
    "\n",
    "Now, I'm using this property of variance. $Var(X \\cdot Y) = \\sigma_x^2\\sigma_y^2 + \\mu_y^2\\sigma_x^2 + \\mu_x^2\\sigma_y^2$\n",
    "\n",
    "$= \\frac{1}{(n-1)^2\\sigma_x^4} \\cdot n \\cdot (\\sigma_{x-\\bar{x}}^2 \\cdot \\sigma_\\epsilon^2 + \\mu_\\epsilon^2 \\cdot \\sigma_{x-\\bar{x}}^2+ \\mu_{x-\\bar{x}}^2 \\cdot \\sigma_\\epsilon^2)$\n",
    "\n",
    "$\\mu_\\epsilon^2 = 0$ and $\\mu_{x-\\bar{x}}^2 = 0$\n",
    "\n",
    "$= \\frac{n \\cdot \\sigma_\\epsilon^2}{(n-1)^2} \\cdot \\frac{\\sigma_{x-\\bar{x}}^2}{\\sigma_x^4}$\n",
    "\n",
    "$= \\frac{n \\cdot \\sigma_\\epsilon^2}{(n-1)^2} \\cdot \\frac{Var[(X-\\bar{X})_i]}{\\sigma_x^4}$\n",
    "\n",
    "$= \\frac{n \\cdot \\sigma_\\epsilon^2}{(n-1)^2} \\cdot \\frac{Var[X_i-\\bar{X}_i]}{\\sigma_x^4}$\n",
    "\n",
    "$= \\frac{n \\cdot \\sigma_\\epsilon^2}{(n-1)^2} \\cdot \\frac{Var(X_i)+Var(\\bar{X}_i)}{\\sigma_x^4}$\n",
    "\n",
    "$= \\frac{n \\cdot \\sigma_\\epsilon^2}{(n-1)^2} \\cdot \\frac{Var(X_i)+\\frac{Var(X_i)}{n}}{\\sigma_x^4}$\n",
    "\n",
    "$= \\frac{n \\cdot \\sigma_\\epsilon^2 \\cdot Var(X_i)}{(n-1)^2} \\cdot \\frac{1+\\frac{1}{n}}{\\sigma_x^4}$\n",
    "\n",
    "$= \\frac{\\sigma_\\epsilon^2 \\cdot \\sigma_x^2}{(n-1)^2} \\cdot \\frac{n+1}{\\sigma_x^4}$\n",
    "\n",
    "$= \\frac{(n+1)}{(n-1)^2} \\cdot \\frac{\\sigma_\\epsilon^2}{\\sigma_x^2}$\n",
    "\n",
    "$= \\frac{(n+1)}{(n^2-2n+1)} \\cdot \\frac{\\sigma_\\epsilon^2}{\\sigma_x^2}$\n",
    "\n",
    "$= \\frac{1}{n} \\cdot \\frac{\\sigma_\\epsilon^2}{\\sigma_x^2}$\n",
    "\n",
    "Therefore,\n",
    "\n",
    "$Var(\\widehat{\\beta_{1,i}}) = \\frac{\\sigma_\\epsilon^2}{n \\cdot \\sigma_x^2}$\n",
    "\n",
    "$\\widehat{Var(\\widehat{\\beta_{1,i}})} = \\frac{S_\\epsilon^2}{n \\cdot S_x^2}$\n"
   ]
  },
  {
   "cell_type": "code",
   "execution_count": 6,
   "metadata": {},
   "outputs": [],
   "source": [
    "import numpy as np\n",
    "import matplotlib.pyplot as plt\n",
    "from scipy.stats import multivariate_normal\n",
    "from mpl_toolkits.mplot3d import Axes3D\n",
    "import pandas as pd \n",
    "import random\n",
    "import statistics\n",
    "import seaborn as sns \n",
    "import collections\n",
    "import statsmodels.api as sm\n",
    "import statsmodels.formula.api as smf\n",
    "import scipy.stats as stats\n",
    "from matplotlib.ticker import (MultipleLocator, FormatStrFormatter, AutoMinorLocator)"
   ]
  },
  {
   "cell_type": "code",
   "execution_count": 7,
   "metadata": {},
   "outputs": [],
   "source": [
    "np.random.seed(0)\n",
    "\n",
    "# np.random.normal(mean, std, size)\n",
    "\n",
    "X = np.random.normal(0, 5, 10000)\n",
    "epsilon = np.random.normal(0, 1, 10000)\n",
    "\n",
    "beta_0 = 100\n",
    "beta_1 = 0.3\n",
    "\n",
    "Y = beta_0 + beta_1*X + epsilon"
   ]
  },
  {
   "cell_type": "code",
   "execution_count": 8,
   "metadata": {},
   "outputs": [
    {
     "name": "stdout",
     "output_type": "stream",
     "text": [
      "The first column is X and the second column is Y.\n",
      "\n",
      "[[  8.82026173 102.44396149]\n",
      " [  2.00078604  99.76700481]\n",
      " [  4.89368992 103.20170722]\n",
      " ...\n",
      " [  2.58436089 100.71804902]\n",
      " [ -0.16460347  98.8916877 ]\n",
      " [  6.49055716 101.62063871]]\n"
     ]
    }
   ],
   "source": [
    "xy_observation = np.array([X.tolist(), Y.tolist()])\n",
    "xy_observation = xy_observation.transpose()\n",
    "print(\"The first column is X and the second column is Y.\")\n",
    "print()\n",
    "print(xy_observation)"
   ]
  },
  {
   "cell_type": "code",
   "execution_count": 9,
   "metadata": {},
   "outputs": [],
   "source": [
    "beta_0_hat_list = []\n",
    "beta_1_hat_list = []\n",
    "\n",
    "n = 100\n",
    "\n",
    "for i in range(5000):\n",
    "    inx = np.random.randint(10000, size=n)\n",
    "    sample = xy_observation[inx]\n",
    "    sample = sm.add_constant(sample)\n",
    "    \n",
    "    sample_results = sm.OLS(sample[:,2], sample[:,0:2]).fit()\n",
    "    beta_0_hat = sample_results.params[0]\n",
    "    beta_1_hat = sample_results.params[1]\n",
    "    \n",
    "    beta_0_hat_list.append(beta_0_hat)\n",
    "    beta_1_hat_list.append(beta_1_hat)"
   ]
  },
  {
   "cell_type": "code",
   "execution_count": 10,
   "metadata": {},
   "outputs": [
    {
     "data": {
      "image/png": "[encoded data removed]",
      "text/plain": [
       "<Figure size 720x432 with 2 Axes>"
      ]
     },
     "metadata": {
      "needs_background": "light"
     },
     "output_type": "display_data"
    }
   ],
   "source": [
    "fig = plt.figure(figsize=(10,6))\n",
    "\n",
    "x_0 = np.arange(99.6, 100.4, .0005)\n",
    "x_1 = np.arange(0.225, 0.375, .0005)\n",
    "\n",
    "mu_beta_0 = np.mean(beta_0_hat_list)\n",
    "mu_beta_1 = np.mean(beta_1_hat_list)\n",
    "\n",
    "std_beta_0 = np.std(beta_0_hat_list)\n",
    "std_beta_1 = np.std(beta_1_hat_list)\n",
    "\n",
    "\n",
    "ax_0 = fig.add_axes([0,0,1,1])\n",
    "ax_1 = fig.add_axes([1.1, 0, 1, 1])\n",
    "\n",
    "\n",
    "ax_0.hist(beta_0_hat_list, bins=100, ec=\"black\", density=True)\n",
    "ax_0.plot(x_0, stats.norm.pdf(x_0, mu_beta_0, std_beta_0), color='red', lw=5)\n",
    "\n",
    "ax_1.hist(beta_1_hat_list, bins=100, ec=\"black\", density=True)\n",
    "ax_1.plot(x_1, stats.norm.pdf(x_1, mu_beta_1, std_beta_1), color='red', lw=5)\n",
    "\n",
    "ax_0.set_title(r\"$Sampling Distribution of \\widehat{\\beta_0}$\", fontsize=30)\n",
    "ax_1.set_title(r\"$Sampling Distribution of \\widehat{\\beta_1}$\", fontsize=30)\n",
    "\n",
    "plt.show()"
   ]
  },
  {
   "cell_type": "code",
   "execution_count": 11,
   "metadata": {},
   "outputs": [
    {
     "data": {
      "text/plain": [
       "0.0004246776311361781"
      ]
     },
     "execution_count": 11,
     "metadata": {},
     "output_type": "execute_result"
    }
   ],
   "source": [
    "statistics.pvariance(beta_1_hat_list)"
   ]
  },
  {
   "cell_type": "code",
   "execution_count": 12,
   "metadata": {},
   "outputs": [
    {
     "name": "stdout",
     "output_type": "stream",
     "text": [
      "0.00040446631051927807\n"
     ]
    }
   ],
   "source": [
    "var_epsilon = statistics.pvariance(xy_observation[:,1] - beta_0 - (beta_1 * xy_observation[:,0]))\n",
    "var_X = statistics.pvariance(xy_observation[:,0])\n",
    "var_beta_1 = var_epsilon/(n*var_X)\n",
    "\n",
    "print(var_beta_1)"
   ]
  },
  {
   "cell_type": "markdown",
   "metadata": {},
   "source": [
    "Okay. The results are pretty satisfying. The variance calculated directly from the list of $\\widehat{\\beta_{1,i}}$ and the variance calculated from $\\epsilon_i$ and $X_i$ are pretty much the same. "
   ]
  },
  {
   "cell_type": "markdown",
   "metadata": {},
   "source": [
    "#### Let's try $\\widehat{Var(\\widehat{\\beta_1})} = \\frac{\\frac{SSR}{N-2}}{\\sum_j^n(X_{i,j}-\\bar{X_i})^2}$  or  $=\\frac{S_\\epsilon^2}{n \\cdot S_X^2}$"
   ]
  },
  {
   "cell_type": "code",
   "execution_count": 63,
   "metadata": {},
   "outputs": [],
   "source": [
    "inx = np.random.randint(10000, size=n)\n",
    "sample = xy_observation[inx]\n",
    "sample = sm.add_constant(sample)\n",
    "    \n",
    "sample_results = sm.OLS(sample[:,2], sample[:,0:2]).fit()\n",
    "beta_0_hat = sample_results.params[0]\n",
    "beta_1_hat = sample_results.params[1]"
   ]
  },
  {
   "cell_type": "code",
   "execution_count": 64,
   "metadata": {},
   "outputs": [
    {
     "data": {
      "text/plain": [
       "0.00033105565840443435"
      ]
     },
     "execution_count": 64,
     "metadata": {},
     "output_type": "execute_result"
    }
   ],
   "source": [
    "sample_X = sample[:,1]\n",
    "sample_Y = sample[:,2]\n",
    "sample_error = sample_Y - beta_0_hat - (beta_1_hat*sample_X)\n",
    "\n",
    "SSR = np.sum(np.square(sample_error))\n",
    "sample_var_X = statistics.variance(sample_X)\n",
    "\n",
    "def sample_var_beta_hat_1(n, SSR, sample_var_X):\n",
    "    numerator = SSR/(n-2)\n",
    "    denom = n*sample_var_X\n",
    "    return numerator / denom\n",
    "\n",
    "sample_var_beta_hat_1(n,SSR,sample_var_X)"
   ]
  },
  {
   "cell_type": "markdown",
   "metadata": {},
   "source": [
    "Okay. I am not very satisfied with the result. We know the population variance for $\\widehat{\\beta_{1,i}}$ is close to 0.0004. And the I get some different number for the estimate. Let's me execute a loop to see if this estimate is consistent and unbiased. "
   ]
  },
  {
   "cell_type": "code",
   "execution_count": 69,
   "metadata": {},
   "outputs": [],
   "source": [
    "sample_var_beta_hat_1_list = [] \n",
    "\n",
    "for i in range(5000):\n",
    "    inx = np.random.randint(10000, size=n)\n",
    "    sample = xy_observation[inx]\n",
    "    sample = sm.add_constant(sample)\n",
    "    \n",
    "    sample_results = sm.OLS(sample[:,2], sample[:,0:2]).fit()\n",
    "    beta_0_hat = sample_results.params[0]\n",
    "    beta_1_hat = sample_results.params[1]\n",
    "    \n",
    "    sample_X = sample[:,1]\n",
    "    sample_Y = sample[:,2]\n",
    "    sample_error = sample_Y - beta_0_hat - (beta_1_hat*sample_X)\n",
    "\n",
    "    SSR = np.sum(np.square(sample_error))\n",
    "    sample_var_X = statistics.variance(sample_X)\n",
    "    \n",
    "    svbh_1 = sample_var_beta_hat_1(n,SSR,sample_var_X)\n",
    "    \n",
    "    sample_var_beta_hat_1_list.append(svbh_1)"
   ]
  },
  {
   "cell_type": "code",
   "execution_count": 74,
   "metadata": {},
   "outputs": [
    {
     "name": "stdout",
     "output_type": "stream",
     "text": [
      "0.00041132533806527823\n",
      "7.071104414786901e-09\n"
     ]
    }
   ],
   "source": [
    "print(np.mean(sample_var_beta_hat_1_list))\n",
    "print(statistics.pvariance(sample_var_beta_hat_1_list))"
   ]
  },
  {
   "cell_type": "markdown",
   "metadata": {},
   "source": [
    "It is a consistent and unbiased estimator. \n",
    "\n",
    "What I realized is that variance tells nothing about the expectation of estimates. It only tells how dispersed the estiamates are. And with that variance, we hypothesize what the expectation of the estimates is. And if the estimate goes beyond the alpha level, then we reject our null hypothesis. \n",
    "\n",
    "The variance definitely affects our decision whether to reject the null or not. But the thing is that this variance is population variance that we can only estimate it. In other words, we have to use sample variance of estimates. So it is important to have an estimate of a variance that is close to the true variance. "
   ]
  }
 ],
 "metadata": {
  "hide_input": false,
  "kernelspec": {
   "display_name": "Python 3",
   "language": "python",
   "name": "python3"
  },
  "language_info": {
   "codemirror_mode": {
    "name": "ipython",
    "version": 3
   },
   "file_extension": ".py",
   "mimetype": "text/x-python",
   "name": "python",
   "nbconvert_exporter": "python",
   "pygments_lexer": "ipython3",
   "version": "3.8.5"
  }
 },
 "nbformat": 4,
 "nbformat_minor": 4
}
