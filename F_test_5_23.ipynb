{
 "cells": [
  {
   "cell_type": "code",
   "execution_count": 57,
   "metadata": {},
   "outputs": [],
   "source": [
    "import numpy as np\n",
    "import matplotlib.pyplot as plt\n",
    "from scipy.stats import multivariate_normal\n",
    "from mpl_toolkits.mplot3d import Axes3D\n",
    "import pandas as pd \n",
    "import random\n",
    "import statistics\n",
    "import seaborn as sns \n",
    "import collections\n",
    "import statsmodels.api as sm\n",
    "import statsmodels.formula.api as smf\n",
    "import scipy.stats as stats\n",
    "from matplotlib.ticker import (MultipleLocator, FormatStrFormatter, AutoMinorLocator)"
   ]
  },
  {
   "cell_type": "code",
   "execution_count": 58,
   "metadata": {},
   "outputs": [],
   "source": [
    "np.random.seed(0)\n",
    "X_1 = np.random.normal(0, 1, 10000)\n",
    "X_2 = np.random.normal(0, 1, 10000)\n",
    "X_3 = np.random.normal(0, 1, 10000)\n",
    "\n",
    "epsilon = np.random.normal(0, 1, 10000)\n",
    "\n",
    "beta_0 = 100\n",
    "beta_1 = 0\n",
    "beta_2 = 0\n",
    "beta_3 = 4\n",
    "\n",
    "Y = beta_0 + beta_1*X_1 + beta_2*X_2 + beta_3*X_3 + epsilon\n",
    "\n",
    "xy_observation = np.array([X_1.tolist(), X_2.tolist(), X_3.tolist(), Y.tolist()]).transpose()"
   ]
  },
  {
   "cell_type": "code",
   "execution_count": 59,
   "metadata": {},
   "outputs": [
    {
     "name": "stdout",
     "output_type": "stream",
     "text": [
      "Wall time: 7.15 s\n"
     ]
    }
   ],
   "source": [
    "%%time\n",
    "\n",
    "sample_size = 100\n",
    "\n",
    "est_coefficients_list = []\n",
    "SSR_unrest_list = [] \n",
    "\n",
    "est_coefficients_res_list = []\n",
    "SSR_res_list = []\n",
    "\n",
    "for i in range(10000):\n",
    "    inx = np.random.randint(10000, size=sample_size)\n",
    "    sample = xy_observation[inx]\n",
    "    sample = sm.add_constant(sample)\n",
    "    \n",
    "    ### Unrestricted Model #######################################################\n",
    "    sample_results = sm.OLS(sample[:,4], sample[:,0:4]).fit()\n",
    "    beta_0_hat = sample_results.params[0]\n",
    "    beta_1_hat = sample_results.params[1]\n",
    "    beta_2_hat = sample_results.params[2]\n",
    "    beta_3_hat = sample_results.params[3]\n",
    "    \n",
    "    est_coefficients = [beta_0_hat, beta_1_hat, beta_2_hat, beta_3_hat]\n",
    "    \n",
    "    SSR_unrest = np.sum(np.square(sample[:,4]-(beta_0_hat*sample[:,0])\n",
    "                                  -(beta_1_hat*sample[:,1])\n",
    "                                  -(beta_2_hat*sample[:,2])\n",
    "                                  -(beta_3_hat*sample[:,3])))\n",
    "    \n",
    "    SSR_unrest_list.append(SSR_unrest)\n",
    "    est_coefficients_list.append(est_coefficients)\n",
    "    \n",
    "    \n",
    "    ### Restricted Model #########################################################\n",
    "    sample_results_res = sm.OLS(sample[:,4], sample[:,[0,3]]).fit()\n",
    "    beta_0_hat_res = sample_results_res.params[0]\n",
    "    beta_3_hat_res = sample_results_res.params[1]\n",
    "    \n",
    "    est_coefficients_res = [beta_0_hat_res, beta_3_hat_res]\n",
    "    \n",
    "    SSR_res = np.sum(np.square(sample[:,4]-(beta_0_hat_res*sample[:,0])\n",
    "                               -(beta_3_hat_res*sample[:,3])))\n",
    "    \n",
    "    SSR_res_list.append(SSR_res)\n",
    "    est_coefficients_res_list.append(est_coefficients_res)\n",
    "    \n",
    "    \n",
    "est_coefficients_list = np.array(est_coefficients_list)\n",
    "SSR_unrest_list = np.array(SSR_unrest_list)\n",
    "\n",
    "est_coefficients_res_list = np.array(est_coefficients_res_list)\n",
    "SSR_res_list = np.array(SSR_res_list)"
   ]
  },
  {
   "cell_type": "code",
   "execution_count": 60,
   "metadata": {},
   "outputs": [],
   "source": [
    "# q is # of restrictions\n",
    "q = 2 \n",
    "dfn = q \n",
    "\n",
    "# k is # of regressors in unrestricted model \n",
    "k = 3 \n",
    "dfd = sample_size - k -1"
   ]
  },
  {
   "cell_type": "code",
   "execution_count": 61,
   "metadata": {},
   "outputs": [],
   "source": [
    "num = (SSR_res_list - SSR_unrest_list)/dfn\n",
    "denom = SSR_unrest_list/dfd"
   ]
  },
  {
   "cell_type": "code",
   "execution_count": 62,
   "metadata": {},
   "outputs": [
    {
     "name": "stdout",
     "output_type": "stream",
     "text": [
      "[0.35414637 0.39482391 0.18054108 ... 1.21624372 1.36216567 0.32551387]\n",
      "[1.0035583  0.94070997 0.91723158 ... 1.04449797 1.15389236 1.14256303]\n"
     ]
    }
   ],
   "source": [
    "print(num)\n",
    "print(denom)"
   ]
  },
  {
   "cell_type": "code",
   "execution_count": 63,
   "metadata": {},
   "outputs": [],
   "source": [
    "F = num/denom"
   ]
  },
  {
   "cell_type": "code",
   "execution_count": 64,
   "metadata": {},
   "outputs": [
    {
     "data": {
      "image/png": "[encoded data removed]",
      "text/plain": [
       "<Figure size 432x288 with 1 Axes>"
      ]
     },
     "metadata": {
      "needs_background": "light"
     },
     "output_type": "display_data"
    }
   ],
   "source": [
    "x = np.arange(0, 8, 0.1)\n",
    "plt.hist(F, bins=100, density=True)\n",
    "plt.plot(x, stats.f.pdf(x, dfn, dfd), lw=2, color=\"red\")\n",
    "plt.show()"
   ]
  },
  {
   "cell_type": "markdown",
   "metadata": {},
   "source": [
    "#### Let's take a sample and generate a regression table "
   ]
  },
  {
   "cell_type": "code",
   "execution_count": 65,
   "metadata": {},
   "outputs": [],
   "source": [
    "inx = np.random.randint(10000, size=sample_size)\n",
    "sample = xy_observation[inx]\n",
    "sample = sm.add_constant(sample)\n",
    "\n",
    "sample_results = sm.OLS(sample[:,4], sample[:,0:4]).fit()"
   ]
  },
  {
   "cell_type": "code",
   "execution_count": 71,
   "metadata": {},
   "outputs": [],
   "source": [
    "### Unrestricted Model #######################################################\n",
    "beta_0_hat = sample_results.params[0]\n",
    "beta_1_hat = sample_results.params[1]\n",
    "beta_2_hat = sample_results.params[2]\n",
    "beta_3_hat = sample_results.params[3]\n",
    "\n",
    "est_coefficients = [beta_0_hat, beta_1_hat, beta_2_hat, beta_3_hat]\n",
    "\n",
    "SSR_unrest = np.sum(np.square(sample[:,4]-(beta_0_hat*sample[:,0])\n",
    "                              -(beta_1_hat*sample[:,1])\n",
    "                              -(beta_2_hat*sample[:,2])\n",
    "                              -(beta_3_hat*sample[:,3])))\n",
    "\n",
    "\n",
    "### Restricted Model #########################################################\n",
    "sample_results_res = sm.OLS(sample[:,4], sample[:,[0,3]]).fit()\n",
    "beta_0_hat_res = sample_results_res.params[0]\n",
    "beta_3_hat_res = sample_results_res.params[1]\n",
    "\n",
    "est_coefficients_res = [beta_0_hat_res, beta_3_hat_res]\n",
    "\n",
    "SSR_res = np.sum(np.square(sample[:,4]-(beta_0_hat_res*sample[:,0])\n",
    "                           -(beta_3_hat_res*sample[:,3])))\n",
    "\n",
    "# q is # of restrictions\n",
    "q = 2 \n",
    "dfn = q \n",
    "\n",
    "# k is # of regressors in unrestricted model \n",
    "k = 3 \n",
    "dfd = sample_size - k -1\n",
    "\n",
    "numerator = (SSR_res - SSR_unrest)/dfn\n",
    "denominator = SSR_unrest/dfd\n",
    "\n",
    "F_stat = numerator/denominator"
   ]
  },
  {
   "cell_type": "code",
   "execution_count": 69,
   "metadata": {},
   "outputs": [
    {
     "name": "stdout",
     "output_type": "stream",
     "text": [
      "1.9015809971416064\n"
     ]
    }
   ],
   "source": [
    "print(F_stat)"
   ]
  },
  {
   "cell_type": "code",
   "execution_count": 70,
   "metadata": {},
   "outputs": [
    {
     "name": "stdout",
     "output_type": "stream",
     "text": [
      "                            OLS Regression Results                            \n",
      "==============================================================================\n",
      "Dep. Variable:                      y   R-squared:                       0.948\n",
      "Model:                            OLS   Adj. R-squared:                  0.947\n",
      "Method:                 Least Squares   F-statistic:                     586.4\n",
      "Date:                Tue, 25 May 2021   Prob (F-statistic):           1.42e-61\n",
      "Time:                        20:34:10   Log-Likelihood:                -137.56\n",
      "No. Observations:                 100   AIC:                             283.1\n",
      "Df Residuals:                      96   BIC:                             293.5\n",
      "Df Model:                           3                                         \n",
      "Covariance Type:            nonrobust                                         \n",
      "==============================================================================\n",
      "                 coef    std err          t      P>|t|      [0.025      0.975]\n",
      "------------------------------------------------------------------------------\n",
      "const         99.8243      0.100   1000.481      0.000      99.626     100.022\n",
      "x1             0.0208      0.101      0.207      0.837      -0.179       0.221\n",
      "x2             0.1809      0.094      1.930      0.057      -0.005       0.367\n",
      "x3             3.9415      0.095     41.620      0.000       3.753       4.129\n",
      "==============================================================================\n",
      "Omnibus:                        0.062   Durbin-Watson:                   1.775\n",
      "Prob(Omnibus):                  0.969   Jarque-Bera (JB):                0.192\n",
      "Skew:                           0.047   Prob(JB):                        0.909\n",
      "Kurtosis:                       2.808   Cond. No.                         1.27\n",
      "==============================================================================\n",
      "\n",
      "Notes:\n",
      "[1] Standard Errors assume that the covariance matrix of the errors is correctly specified.\n"
     ]
    }
   ],
   "source": [
    "print(sample_results.summary())"
   ]
  },
  {
   "cell_type": "code",
   "execution_count": 73,
   "metadata": {},
   "outputs": [
    {
     "data": {
      "image/png": "[encoded data removed]",
      "text/plain": [
       "<Figure size 432x288 with 1 Axes>"
      ]
     },
     "metadata": {
      "needs_background": "light"
     },
     "output_type": "display_data"
    }
   ],
   "source": [
    "import pandas as pd\n",
    "# load data file\n",
    "df = pd.read_csv(\"https://reneshbedre.github.io/assets/posts/anova/onewayanova.txt\", sep=\"\\t\")\n",
    "# reshape the d dataframe suitable for statsmodels package \n",
    "df_melt = pd.melt(df.reset_index(), id_vars=['index'], value_vars=['A', 'B', 'C', 'D'])\n",
    "# replace column names\n",
    "df_melt.columns = ['index', 'treatments', 'value']\n",
    "\n",
    "# generate a boxplot to see the data distribution by treatments. Using boxplot, we can \n",
    "# easily detect the differences between different treatments\n",
    "import matplotlib.pyplot as plt\n",
    "import seaborn as sns\n",
    "ax = sns.boxplot(x='treatments', y='value', data=df_melt, color='#99c2a2')\n",
    "ax = sns.swarmplot(x=\"treatments\", y=\"value\", data=df_melt, color='#7d0013')\n",
    "plt.show()"
   ]
  },
  {
   "cell_type": "code",
   "execution_count": 75,
   "metadata": {},
   "outputs": [
    {
     "data": {
      "text/html": [
       "<div>\n",
       "<style scoped>\n",
       "    .dataframe tbody tr th:only-of-type {\n",
       "        vertical-align: middle;\n",
       "    }\n",
       "\n",
       "    .dataframe tbody tr th {\n",
       "        vertical-align: top;\n",
       "    }\n",
       "\n",
       "    .dataframe thead th {\n",
       "        text-align: right;\n",
       "    }\n",
       "</style>\n",
       "<table border=\"1\" class=\"dataframe\">\n",
       "  <thead>\n",
       "    <tr style=\"text-align: right;\">\n",
       "      <th></th>\n",
       "      <th>A</th>\n",
       "      <th>B</th>\n",
       "      <th>C</th>\n",
       "      <th>D</th>\n",
       "    </tr>\n",
       "  </thead>\n",
       "  <tbody>\n",
       "    <tr>\n",
       "      <th>0</th>\n",
       "      <td>25</td>\n",
       "      <td>45</td>\n",
       "      <td>30</td>\n",
       "      <td>54</td>\n",
       "    </tr>\n",
       "    <tr>\n",
       "      <th>1</th>\n",
       "      <td>30</td>\n",
       "      <td>55</td>\n",
       "      <td>29</td>\n",
       "      <td>60</td>\n",
       "    </tr>\n",
       "    <tr>\n",
       "      <th>2</th>\n",
       "      <td>28</td>\n",
       "      <td>29</td>\n",
       "      <td>33</td>\n",
       "      <td>51</td>\n",
       "    </tr>\n",
       "    <tr>\n",
       "      <th>3</th>\n",
       "      <td>36</td>\n",
       "      <td>56</td>\n",
       "      <td>37</td>\n",
       "      <td>62</td>\n",
       "    </tr>\n",
       "    <tr>\n",
       "      <th>4</th>\n",
       "      <td>29</td>\n",
       "      <td>40</td>\n",
       "      <td>27</td>\n",
       "      <td>73</td>\n",
       "    </tr>\n",
       "  </tbody>\n",
       "</table>\n",
       "</div>"
      ],
      "text/plain": [
       "    A   B   C   D\n",
       "0  25  45  30  54\n",
       "1  30  55  29  60\n",
       "2  28  29  33  51\n",
       "3  36  56  37  62\n",
       "4  29  40  27  73"
      ]
     },
     "execution_count": 75,
     "metadata": {},
     "output_type": "execute_result"
    }
   ],
   "source": [
    "df"
   ]
  },
  {
   "cell_type": "code",
   "execution_count": 74,
   "metadata": {},
   "outputs": [
    {
     "name": "stdout",
     "output_type": "stream",
     "text": [
      "17.492810457516338 2.639241146210922e-05\n"
     ]
    },
    {
     "data": {
      "text/html": [
       "<div>\n",
       "<style scoped>\n",
       "    .dataframe tbody tr th:only-of-type {\n",
       "        vertical-align: middle;\n",
       "    }\n",
       "\n",
       "    .dataframe tbody tr th {\n",
       "        vertical-align: top;\n",
       "    }\n",
       "\n",
       "    .dataframe thead th {\n",
       "        text-align: right;\n",
       "    }\n",
       "</style>\n",
       "<table border=\"1\" class=\"dataframe\">\n",
       "  <thead>\n",
       "    <tr style=\"text-align: right;\">\n",
       "      <th></th>\n",
       "      <th>sum_sq</th>\n",
       "      <th>df</th>\n",
       "      <th>F</th>\n",
       "      <th>PR(&gt;F)</th>\n",
       "    </tr>\n",
       "  </thead>\n",
       "  <tbody>\n",
       "    <tr>\n",
       "      <th>C(treatments)</th>\n",
       "      <td>3010.95</td>\n",
       "      <td>3.0</td>\n",
       "      <td>17.49281</td>\n",
       "      <td>0.000026</td>\n",
       "    </tr>\n",
       "    <tr>\n",
       "      <th>Residual</th>\n",
       "      <td>918.00</td>\n",
       "      <td>16.0</td>\n",
       "      <td>NaN</td>\n",
       "      <td>NaN</td>\n",
       "    </tr>\n",
       "  </tbody>\n",
       "</table>\n",
       "</div>"
      ],
      "text/plain": [
       "                sum_sq    df         F    PR(>F)\n",
       "C(treatments)  3010.95   3.0  17.49281  0.000026\n",
       "Residual        918.00  16.0       NaN       NaN"
      ]
     },
     "execution_count": 74,
     "metadata": {},
     "output_type": "execute_result"
    }
   ],
   "source": [
    "import scipy.stats as stats\n",
    "# stats f_oneway functions takes the groups as input and returns ANOVA F and p value\n",
    "fvalue, pvalue = stats.f_oneway(df['A'], df['B'], df['C'], df['D'])\n",
    "print(fvalue, pvalue)\n",
    "# 17.492810457516338 2.639241146210922e-05\n",
    "\n",
    "# get ANOVA table as R like output\n",
    "import statsmodels.api as sm\n",
    "from statsmodels.formula.api import ols\n",
    "\n",
    "# Ordinary Least Squares (OLS) model\n",
    "model = ols('value ~ C(treatments)', data=df_melt).fit()\n",
    "anova_table = sm.stats.anova_lm(model, typ=2)\n",
    "anova_table"
   ]
  },
  {
   "cell_type": "code",
   "execution_count": null,
   "metadata": {},
   "outputs": [],
   "source": []
  }
 ],
 "metadata": {
  "hide_input": false,
  "kernelspec": {
   "display_name": "Python 3",
   "language": "python",
   "name": "python3"
  },
  "language_info": {
   "codemirror_mode": {
    "name": "ipython",
    "version": 3
   },
   "file_extension": ".py",
   "mimetype": "text/x-python",
   "name": "python",
   "nbconvert_exporter": "python",
   "pygments_lexer": "ipython3",
   "version": "3.8.5"
  }
 },
 "nbformat": 4,
 "nbformat_minor": 4
}
