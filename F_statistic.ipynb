{
 "cells": [
  {
   "cell_type": "markdown",
   "metadata": {},
   "source": [
    "### Properties of F-distribution \n",
    "\n",
    "$d_1 =$ degrees of freedom for the numerator.\n",
    "\n",
    "$d_2 =$ degrees of freedom for the denominator.\n",
    "\n",
    "$E[F] = \\frac{d_2}{d_2-2}$ for $d_2 > 2$\n",
    "\n",
    "$Var(F) = \\frac{2 \\cdot d_2^2 \\cdot (d_1+d_2-2)}{d_1(d_2-2)^2 \\cdot (d_2-4)}$ for $d_2>4$"
   ]
  },
  {
   "cell_type": "code",
   "execution_count": 1,
   "metadata": {},
   "outputs": [],
   "source": [
    "import numpy as np\n",
    "import matplotlib.pyplot as plt\n",
    "from scipy.stats import multivariate_normal\n",
    "from mpl_toolkits.mplot3d import Axes3D\n",
    "import pandas as pd \n",
    "import random\n",
    "import statistics\n",
    "import seaborn as sns \n",
    "import collections\n",
    "import statsmodels.api as sm\n",
    "import statsmodels.formula.api as smf\n",
    "import scipy.stats as stats\n",
    "from matplotlib.ticker import (MultipleLocator, FormatStrFormatter, AutoMinorLocator)\n",
    "import os"
   ]
  },
  {
   "cell_type": "code",
   "execution_count": 5,
   "metadata": {},
   "outputs": [
    {
     "name": "stdout",
     "output_type": "stream",
     "text": [
      "Wall time: 23.7 s\n"
     ]
    }
   ],
   "source": [
    "%%time\n",
    "np.random.seed(1)\n",
    "\n",
    "pop_size = 10000\n",
    "sample_size = 100\n",
    "\n",
    "## Generating a normally distributed population with mean, 0 and variance, 1. \n",
    "pop_1 = np.random.normal(0, 1, size=pop_size)\n",
    "\n",
    "## Taking 10,000 samples and collecting sample variances. \n",
    "sample_var_list_1 = [] \n",
    "for i in range(10000):\n",
    "    inx = np.random.randint(pop_size, size=sample_size)\n",
    "    sample = pop_1[inx]\n",
    "    sample_var = statistics.variance(sample) \n",
    "    sample_var_list_1.append(sample_var)"
   ]
  },
  {
   "cell_type": "code",
   "execution_count": 9,
   "metadata": {},
   "outputs": [],
   "source": [
    "np.random.seed(1)\n",
    "\n",
    "pop_2 = np.random.normal(0, 1, size=pop_size)\n",
    "\n",
    "## Taking 10,000 samples and collecting sample variances. \n",
    "sample_var_list_2 = [] \n",
    "for i in range(10000):\n",
    "    inx = np.random.randint(pop_size, size=sample_size)\n",
    "    sample = pop_2[inx]\n",
    "    sample_var = statistics.variance(sample) \n",
    "    sample_var_list_2.append(sample_var)"
   ]
  },
  {
   "cell_type": "code",
   "execution_count": 22,
   "metadata": {},
   "outputs": [],
   "source": [
    "f_stat_list = np.divide(sample_var_list_1,sample_var_list_2)"
   ]
  },
  {
   "cell_type": "code",
   "execution_count": 40,
   "metadata": {},
   "outputs": [
    {
     "data": {
      "image/png": "[encoded data removed]",
      "text/plain": [
       "<Figure size 432x288 with 1 Axes>"
      ]
     },
     "metadata": {
      "needs_background": "light"
     },
     "output_type": "display_data"
    }
   ],
   "source": [
    "x = np.arange(0.5,2,0.005)\n",
    "\n",
    "plt.plot(x,stats.f.pdf(x,99,99), lw=3)\n",
    "plt.hist(f_stat_list,bins=100, density=True)\n",
    "plt.show()"
   ]
  },
  {
   "cell_type": "markdown",
   "metadata": {},
   "source": [
    "F statistic $= \\frac{S_x^2}{S_y^2}$\n",
    "\n",
    "With this F statistic, we can plot the distribution. And we get something like the one above. There is an assumption that the sample sizes for both sets of samples are 100. \n",
    "\n",
    "Say there are two different populations. We want to know that if they have same variance. "
   ]
  },
  {
   "cell_type": "code",
   "execution_count": 63,
   "metadata": {},
   "outputs": [
    {
     "name": "stdout",
     "output_type": "stream",
     "text": [
      "0.8600231814247536\n"
     ]
    }
   ],
   "source": [
    "np.random.seed(1)\n",
    "denom_var = sample_var_list_2[np.random.randint(0,10000)]\n",
    "print(denom_var)"
   ]
  },
  {
   "cell_type": "markdown",
   "metadata": {},
   "source": [
    "Say that I have sample variance of 0.86 for a sample that is drawn from one population. And I have another sample variance of 2 for a sample that is drawn from another population. Then we can calculate the f-statistic like the following: "
   ]
  },
  {
   "cell_type": "code",
   "execution_count": 69,
   "metadata": {},
   "outputs": [
    {
     "data": {
      "text/plain": [
       "2.3255187106546464"
      ]
     },
     "execution_count": 69,
     "metadata": {},
     "output_type": "execute_result"
    }
   ],
   "source": [
    "2/denom_var"
   ]
  },
  {
   "cell_type": "markdown",
   "metadata": {},
   "source": [
    "The resultant value for the f-stat is 2.32 which goes well beyond 5% significance level, so we reject the null. "
   ]
  },
  {
   "cell_type": "markdown",
   "metadata": {},
   "source": [
    "## Understanding F-test"
   ]
  },
  {
   "cell_type": "markdown",
   "metadata": {},
   "source": [
    "**Great Reference!:** https://statisticsbyjim.com/anova/f-tests-anova/\n",
    "\n",
    "**I think this is the same as the one above:** \n",
    "https://blog.minitab.com/en/adventures-in-statistics-2/understanding-analysis-of-variance-anova-and-the-f-test\n",
    "\n",
    "**Reference for SST = SSR + SSE:** https://365datascience.com/tutorials/statistics-tutorials/sum-squares/\n",
    "\n",
    "**Demonstration of calculating SSW and SSB:** https://www.khanacademy.org/math/statistics-probability/analysis-of-variance-anova-library/analysis-of-variance-anova/v/anova-2-calculating-ssw-and-ssb-total-sum-of-squares-within-and-between-avi"
   ]
  },
  {
   "cell_type": "markdown",
   "metadata": {},
   "source": [
    "$F = \\frac{between-groups-variance}{within-group-variance}$"
   ]
  },
  {
   "cell_type": "code",
   "execution_count": 131,
   "metadata": {},
   "outputs": [],
   "source": [
    "path = os.getcwd()+\"\\\\data\\\\OneWayExample.csv\"\n",
    "df = pd.read_csv(path)"
   ]
  },
  {
   "cell_type": "code",
   "execution_count": 132,
   "metadata": {
    "scrolled": true
   },
   "outputs": [
    {
     "data": {
      "text/html": [
       "<div>\n",
       "<style scoped>\n",
       "    .dataframe tbody tr th:only-of-type {\n",
       "        vertical-align: middle;\n",
       "    }\n",
       "\n",
       "    .dataframe tbody tr th {\n",
       "        vertical-align: top;\n",
       "    }\n",
       "\n",
       "    .dataframe thead th {\n",
       "        text-align: right;\n",
       "    }\n",
       "</style>\n",
       "<table border=\"1\" class=\"dataframe\">\n",
       "  <thead>\n",
       "    <tr style=\"text-align: right;\">\n",
       "      <th></th>\n",
       "      <th>Strength</th>\n",
       "    </tr>\n",
       "    <tr>\n",
       "      <th>Sample</th>\n",
       "      <th></th>\n",
       "    </tr>\n",
       "  </thead>\n",
       "  <tbody>\n",
       "    <tr>\n",
       "      <th>1</th>\n",
       "      <td>11.202520</td>\n",
       "    </tr>\n",
       "    <tr>\n",
       "      <th>2</th>\n",
       "      <td>8.937722</td>\n",
       "    </tr>\n",
       "    <tr>\n",
       "      <th>3</th>\n",
       "      <td>10.682546</td>\n",
       "    </tr>\n",
       "    <tr>\n",
       "      <th>4</th>\n",
       "      <td>8.837952</td>\n",
       "    </tr>\n",
       "  </tbody>\n",
       "</table>\n",
       "</div>"
      ],
      "text/plain": [
       "         Strength\n",
       "Sample           \n",
       "1       11.202520\n",
       "2        8.937722\n",
       "3       10.682546\n",
       "4        8.837952"
      ]
     },
     "execution_count": 132,
     "metadata": {},
     "output_type": "execute_result"
    }
   ],
   "source": [
    "group_means = df.groupby(\"Sample\").mean()\n",
    "group_means"
   ]
  },
  {
   "cell_type": "code",
   "execution_count": 161,
   "metadata": {},
   "outputs": [
    {
     "data": {
      "text/plain": [
       "9.91518532142282"
      ]
     },
     "execution_count": 161,
     "metadata": {},
     "output_type": "execute_result"
    }
   ],
   "source": [
    "GM = np.mean(df[\"Strength\"].values)\n",
    "GM"
   ]
  },
  {
   "cell_type": "code",
   "execution_count": 149,
   "metadata": {},
   "outputs": [
    {
     "data": {
      "text/plain": [
       "202.08535988928105"
      ]
     },
     "execution_count": 149,
     "metadata": {},
     "output_type": "execute_result"
    }
   ],
   "source": [
    "SST = np.sum(np.square(df[\"Strength\"].values-grand_mean))\n",
    "SST"
   ]
  },
  {
   "cell_type": "code",
   "execution_count": 168,
   "metadata": {},
   "outputs": [
    {
     "data": {
      "text/plain": [
       "158.46597790896953"
      ]
     },
     "execution_count": 168,
     "metadata": {},
     "output_type": "execute_result"
    }
   ],
   "source": [
    "SSW_sum_j_list = []\n",
    "\n",
    "for i in range(1,5):\n",
    "    X_ij = df[df[\"Sample\"]==i][\"Strength\"].values\n",
    "    X_bar_i = np.mean(df[df[\"Sample\"]==i][\"Strength\"].values)\n",
    "    \n",
    "    sum_j = np.sum(np.square(X_ij-X_bar_i))\n",
    "    SSW_sum_j_list.append(sum_j)\n",
    "    \n",
    "SSW = np.sum(SSW_sum_j_list)\n",
    "SSW"
   ]
  },
  {
   "cell_type": "code",
   "execution_count": 169,
   "metadata": {},
   "outputs": [
    {
     "data": {
      "text/plain": [
       "43.61938198031151"
      ]
     },
     "execution_count": 169,
     "metadata": {},
     "output_type": "execute_result"
    }
   ],
   "source": [
    "n = 10\n",
    "SSB_sum_j_list = []\n",
    "\n",
    "for i in range(1,5):\n",
    "    X_ij = df[df[\"Sample\"]==i][\"Strength\"].values\n",
    "    X_bar_i = np.mean(df[df[\"Sample\"]==i][\"Strength\"].values)\n",
    "    SSB_sum_j_list.append(np.dot(np.square(X_bar_i-GM),n))\n",
    "    \n",
    "SSB = np.sum(SSB_sum_j_list)\n",
    "SSB"
   ]
  },
  {
   "cell_type": "code",
   "execution_count": 170,
   "metadata": {},
   "outputs": [
    {
     "data": {
      "text/plain": [
       "202.08535988928105"
      ]
     },
     "execution_count": 170,
     "metadata": {},
     "output_type": "execute_result"
    }
   ],
   "source": [
    "SSW+SSB"
   ]
  },
  {
   "cell_type": "code",
   "execution_count": 176,
   "metadata": {},
   "outputs": [],
   "source": [
    "n = 10\n",
    "m = 4\n",
    "\n",
    "df_SST = m*n-1\n",
    "df_SSW = m*(n-1)\n",
    "df_SSB = m-1"
   ]
  },
  {
   "cell_type": "code",
   "execution_count": 178,
   "metadata": {},
   "outputs": [],
   "source": [
    "MS_SST = SST/df_SST\n",
    "MS_SSW = SSW/df_SSW\n",
    "MS_SSB = SSB/df_SSB"
   ]
  },
  {
   "cell_type": "code",
   "execution_count": 180,
   "metadata": {},
   "outputs": [
    {
     "name": "stdout",
     "output_type": "stream",
     "text": [
      "5.18167589459695\n",
      "4.401832719693598\n",
      "14.53979399343717\n"
     ]
    }
   ],
   "source": [
    "print(MS_SST)\n",
    "print(MS_SSW)\n",
    "print(MS_SSB)"
   ]
  },
  {
   "cell_type": "code",
   "execution_count": 181,
   "metadata": {},
   "outputs": [
    {
     "data": {
      "text/plain": [
       "3.30312279437308"
      ]
     },
     "execution_count": 181,
     "metadata": {},
     "output_type": "execute_result"
    }
   ],
   "source": [
    "MS_SSB/MS_SSW"
   ]
  },
  {
   "cell_type": "markdown",
   "metadata": {},
   "source": [
    "### Okay, From now, I am going to demonstrate F-Distribution "
   ]
  },
  {
   "cell_type": "markdown",
   "metadata": {},
   "source": [
    "H0: $\\mu_0 = \\mu_1 = \\mu_2$\n",
    "\n",
    "HA: One or all of the equalities do not hold. "
   ]
  },
  {
   "cell_type": "code",
   "execution_count": 241,
   "metadata": {},
   "outputs": [],
   "source": [
    "m = 3\n",
    "n = 10\n",
    "\n",
    "df_SSW = m*(n-1)\n",
    "df_SSB = m-1"
   ]
  },
  {
   "cell_type": "code",
   "execution_count": null,
   "metadata": {},
   "outputs": [],
   "source": [
    "def cal_F_stat(a_list):\n",
    "    m = 3\n",
    "    n = 10\n",
    "    \n",
    "    ## calculate grand mean\n",
    "    GM = np.mean(np.array(a_list))\n",
    "    \n",
    "    ## define dfs \n",
    "    df_SSW = m*(n-1)\n",
    "    df_SSB = m-1\n",
    "    \n",
    "    ## cal_mean_SSW\n",
    "    SSW_sum_j_list = []\n",
    "    for i in range(len(a_list)):\n",
    "        X_ij = a_list[i]\n",
    "        X_bar_i = np.mean(a_list[i])\n",
    "        \n",
    "        sum_j = np.sum(np.square(X_ij-X_bar_i))\n",
    "        SSW_sum_j_list.append(sum_j)\n",
    "        \n",
    "    SSW = np.sum(SSW_sum_j_list)\n",
    "    MSSW = SSW/df_SSW \n",
    "    \n",
    "    ## cal_mean_SSB\n",
    "    SSB_sum_j_list = [] \n",
    "    for i in range(len(a_list)):\n",
    "        X_ij = a_list[i]\n",
    "        X_bar_i = np.mean(a_list[i])\n",
    "        \n",
    "        SSB_sum_j_list.append(np.dot(np.square(X_bar_i-GM),n))\n",
    "        \n",
    "    SSB = np.sum(SSB_sum_j_list)\n",
    "    MSSB = SSB/df_SSB\n",
    "    \n",
    "    F_stat = MSSB/MSSW\n",
    "    return F_stat"
   ]
  },
  {
   "cell_type": "code",
   "execution_count": 234,
   "metadata": {},
   "outputs": [],
   "source": [
    "pop_size = 10000\n",
    "sample_size = 10\n",
    "\n",
    "pop_mean = 10\n",
    "pop_std = 1\n",
    "\n",
    "pop = np.random.normal(pop_mean, pop_std, size = pop_size)\n",
    "\n",
    "F_stat_list = []\n",
    "for q in range(1000):\n",
    "    three_samples_list=[]\n",
    "    for i in range(3):\n",
    "        inx = np.random.randint(pop_size, size=sample_size)\n",
    "        three_samples_list.append(pop[inx])\n",
    "\n",
    "    F_stat = cal_F_stat(three_samples_list)\n",
    "    F_stat_list.append(F_stat)"
   ]
  },
  {
   "cell_type": "code",
   "execution_count": 244,
   "metadata": {},
   "outputs": [
    {
     "data": {
      "image/png": "[encoded data removed]",
      "text/plain": [
       "<Figure size 432x288 with 1 Axes>"
      ]
     },
     "metadata": {
      "needs_background": "light"
     },
     "output_type": "display_data"
    }
   ],
   "source": [
    "x = np.arange(0,12,0.01)\n",
    "\n",
    "plt.hist(F_stat_list, bins=100, density=True)\n",
    "\n",
    "plt.plot(x, stats.f.pdf(x,df_SSB, df_SSW), lw=3)\n",
    "\n",
    "plt.show()\n"
   ]
  },
  {
   "cell_type": "code",
   "execution_count": 318,
   "metadata": {},
   "outputs": [
    {
     "data": {
      "text/plain": [
       "0.5696375355736841"
      ]
     },
     "execution_count": 318,
     "metadata": {},
     "output_type": "execute_result"
    }
   ],
   "source": [
    "three_samples_list=[]\n",
    "for i in range(3):\n",
    "    inx = np.random.randint(pop_size, size=sample_size)\n",
    "    three_samples_list.append(pop[inx])\n",
    "\n",
    "F_stat = cal_F_stat(three_samples_list)\n",
    "F_stat"
   ]
  },
  {
   "cell_type": "code",
   "execution_count": 284,
   "metadata": {},
   "outputs": [
    {
     "data": {
      "text/plain": [
       "2.5106086665585408"
      ]
     },
     "execution_count": 284,
     "metadata": {},
     "output_type": "execute_result"
    }
   ],
   "source": [
    "stats.f.ppf(0.90, df_SSB, df_SSW)"
   ]
  },
  {
   "cell_type": "markdown",
   "metadata": {},
   "source": [
    "### Let me try another one with different populations means"
   ]
  },
  {
   "cell_type": "code",
   "execution_count": null,
   "metadata": {},
   "outputs": [],
   "source": [
    "pop_size = 10000\n",
    "sample_size = 10\n",
    "\n",
    "pop_mean = 10\n",
    "pop_std = 1\n",
    "\n",
    "pop = np.random.normal(pop_mean, pop_std, size = pop_size)\n",
    "\n",
    "F_stat_list = []\n",
    "for q in range(1000):\n",
    "    three_samples_list=[]\n",
    "    for i in range(3):\n",
    "        inx = np.random.randint(pop_size, size=sample_size)\n",
    "        three_samples_list.append(pop[inx])\n",
    "\n",
    "    F_stat = cal_F_stat(three_samples_list)\n",
    "    F_stat_list.append(F_stat)"
   ]
  },
  {
   "cell_type": "code",
   "execution_count": 325,
   "metadata": {},
   "outputs": [],
   "source": [
    "pop_size = 1000\n",
    "\n",
    "pop_1_mean = 10\n",
    "pop_2_mean = 14\n",
    "pop_3_mean = 16\n",
    "\n",
    "pop_1_std = 1\n",
    "pop_2_std = 1\n",
    "pop_3_std = 1\n",
    "\n",
    "pop_1 = np.random.normal(pop_1_mean, pop_1_std, size = pop_size)\n",
    "pop_2 = np.random.normal(pop_2_mean, pop_2_std, size = pop_size)\n",
    "pop_3 = np.random.normal(pop_3_mean, pop_3_std, size = pop_size)\n",
    "\n",
    "pop_list = [pop_1, pop_2, pop_3]\n",
    "\n",
    "F_stat_list = []\n",
    "for q in range(1000):\n",
    "    three_samples_list = []\n",
    "    for i in range(3):\n",
    "        inx = np.random.randint(pop_size, size=sample_size)\n",
    "        three_samples_list.append(pop_list[i][inx])\n",
    "        \n",
    "    F_stat = cal_F_stat(three_samples_list)\n",
    "    F_stat_list.append(F_stat)\n"
   ]
  },
  {
   "cell_type": "markdown",
   "metadata": {},
   "source": [
    "### It looks like it doesn't follow any distribution."
   ]
  },
  {
   "cell_type": "code",
   "execution_count": 328,
   "metadata": {},
   "outputs": [
    {
     "data": {
      "image/png": "[encoded data removed]",
      "text/plain": [
       "<Figure size 432x288 with 1 Axes>"
      ]
     },
     "metadata": {
      "needs_background": "light"
     },
     "output_type": "display_data"
    }
   ],
   "source": [
    "plt.hist(F_stat_list, bins=70, density=True)\n",
    "plt.show()"
   ]
  }
 ],
 "metadata": {
  "hide_input": false,
  "kernelspec": {
   "display_name": "Python 3",
   "language": "python",
   "name": "python3"
  },
  "language_info": {
   "codemirror_mode": {
    "name": "ipython",
    "version": 3
   },
   "file_extension": ".py",
   "mimetype": "text/x-python",
   "name": "python",
   "nbconvert_exporter": "python",
   "pygments_lexer": "ipython3",
   "version": "3.8.5"
  }
 },
 "nbformat": 4,
 "nbformat_minor": 4
}
